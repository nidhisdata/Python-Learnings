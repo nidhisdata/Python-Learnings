{
 "cells": [
  {
   "cell_type": "markdown",
   "metadata": {},
   "source": [
    "Question 1: Reverse a String\n",
    "Example:\n",
    "Input: \"hello\"\n",
    "Output: \"olleh\""
   ]
  },
  {
   "cell_type": "code",
   "execution_count": 1,
   "metadata": {},
   "outputs": [
    {
     "name": "stdout",
     "output_type": "stream",
     "text": [
      "olleh\n"
     ]
    }
   ],
   "source": [
    "e=\"hello\"\n",
    "print(e[::-1])"
   ]
  },
  {
   "cell_type": "markdown",
   "metadata": {},
   "source": [
    "Question 2: Check if a String is a Palindrome\n",
    "Example:\n",
    "Input: \"racecar\"\n",
    "Output: True\n",
    "\n",
    "Input: \"hello\"\n",
    "Output: False\n"
   ]
  },
  {
   "cell_type": "code",
   "execution_count": 1,
   "metadata": {},
   "outputs": [
    {
     "name": "stdout",
     "output_type": "stream",
     "text": [
      "False\n"
     ]
    }
   ],
   "source": [
    "s=input(\"Enter a string:\")\n",
    "if (s==s[::-1]):\n",
    "    print(True)\n",
    "else:\n",
    "    print(False)\n"
   ]
  },
  {
   "cell_type": "markdown",
   "metadata": {},
   "source": [
    "Question 3: Count Vowels and Consonants\n",
    "Example:\n",
    "Input: \"hello\"\n",
    "Output: (2, 3)\n",
    "\n",
    "Input: \"data structures\"\n",
    "Output: (5, 9)"
   ]
  },
  {
   "cell_type": "code",
   "execution_count": 12,
   "metadata": {},
   "outputs": [
    {
     "name": "stdout",
     "output_type": "stream",
     "text": [
      "(2, 3)\n"
     ]
    }
   ],
   "source": [
    "s = input('Enter the word:')\n",
    "vowels = \"aeiou\"\n",
    "count_v = 0\n",
    "count_c = 0\n",
    "\n",
    "for c in s:\n",
    "    if c in vowels:\n",
    "        count_v += 1\n",
    "\n",
    "    else:\n",
    "        count_c += 1\n",
    "\n",
    "print((count_v, count_c))\n",
    "\n"
   ]
  },
  {
   "cell_type": "markdown",
   "metadata": {},
   "source": [
    "Question 4: Find the First Non-Repeating Character\n",
    "Example:\n",
    "Input: \"swiss\"\n",
    "Output: \"w\"\n",
    "\n",
    "Input: \"success\"\n",
    "Output: \"u\"\n",
    "\n",
    "Input: \"aabbcc\"\n",
    "Output: None"
   ]
  },
  {
   "cell_type": "code",
   "execution_count": 5,
   "metadata": {},
   "outputs": [
    {
     "name": "stdout",
     "output_type": "stream",
     "text": [
      "s 3\n",
      "w 1\n",
      "i 1\n"
     ]
    }
   ],
   "source": [
    "nr = input('Enter the word:')\n",
    "char_count = {} \n",
    "for char in nr:\n",
    "        if char in char_count: #another dict to store the position use range fucntion etc and find the only one first\n",
    "            char_count[char] += 1\n",
    "        else:\n",
    "            char_count[char] = 1 \n",
    "for i,e in char_count.items():\n",
    "        print(i,e) \n"
   ]
  },
  {
   "cell_type": "code",
   "execution_count": 9,
   "metadata": {},
   "outputs": [
    {
     "name": "stdout",
     "output_type": "stream",
     "text": [
      "None\n"
     ]
    }
   ],
   "source": [
    "def nr(s: str) -> str:\n",
    "    char_count = {}\n",
    "    \n",
    "    for char in s:\n",
    "        char_count[char] = char_count.get(char, 0) + 1\n",
    "    for char in s:\n",
    "        if char_count[char] == 1:\n",
    "            return char\n",
    "        \n",
    "input_str = \"aabbcc\"\n",
    "output = nr(input_str)\n",
    "print(f\"{output}\")\n"
   ]
  },
  {
   "cell_type": "code",
   "execution_count": 13,
   "metadata": {},
   "outputs": [
    {
     "name": "stdout",
     "output_type": "stream",
     "text": [
      "3\n"
     ]
    }
   ],
   "source": [
    "def nr(s: str) -> str:\n",
    "    digit_count = {}\n",
    "    \n",
    "    for digit in s:\n",
    "        digit_count[digit] = digit_count.get(digit, 0) + 1\n",
    "    for digit in s:\n",
    "        if digit_count[digit] == 1:\n",
    "            return digit\n",
    "        \n",
    "input_str = \"1234125\"\n",
    "output = nr(input_str)\n",
    "print(f\"{output}\")\n"
   ]
  },
  {
   "cell_type": "markdown",
   "metadata": {},
   "source": [
    "These are the first few programs I wrote to learn.\n",
    "\n",
    "you can try Fibonacci numbers\n",
    "\n",
    "write a program to find the strong numbers\n",
    "\n",
    "write a program that will reverse a string from input\n",
    "\n",
    "write a program to give palindrome numbers\n",
    "\n",
    "a program to find if an integer input is even or odd :)\n",
    "\n",
    "happy coding!"
   ]
  },
  {
   "cell_type": "markdown",
   "metadata": {},
   "source": [
    "Find if a year is a leap year"
   ]
  },
  {
   "cell_type": "code",
   "execution_count": 24,
   "metadata": {},
   "outputs": [
    {
     "name": "stdout",
     "output_type": "stream",
     "text": [
      "True\n"
     ]
    }
   ],
   "source": [
    "def leap_year(year):\n",
    "    if year%4 !=0: return False\n",
    "    elif year%100==0 and year%400==0: return True\n",
    "    elif year%100==0 : return False\n",
    "    elif year%4==0: return True\n",
    "\n",
    "input_str = 2008\n",
    "output = leap_year(input_str)\n",
    "print(f\"{output}\")"
   ]
  }
 ],
 "metadata": {
  "kernelspec": {
   "display_name": "Python 3",
   "language": "python",
   "name": "python3"
  },
  "language_info": {
   "codemirror_mode": {
    "name": "ipython",
    "version": 3
   },
   "file_extension": ".py",
   "mimetype": "text/x-python",
   "name": "python",
   "nbconvert_exporter": "python",
   "pygments_lexer": "ipython3",
   "version": "3.12.1"
  }
 },
 "nbformat": 4,
 "nbformat_minor": 2
}
