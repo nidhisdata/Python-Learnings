{
 "cells": [
  {
   "cell_type": "markdown",
   "metadata": {},
   "source": [
    "Functions and classes"
   ]
  },
  {
   "cell_type": "code",
   "execution_count": null,
   "metadata": {},
   "outputs": [],
   "source": [
    "def function_name(parameterize/non-parameterize):\n",
    "    #code block syntax\n",
    "    return result #optional\n"
   ]
  },
  {
   "cell_type": "code",
   "execution_count": 1,
   "metadata": {},
   "outputs": [
    {
     "name": "stdout",
     "output_type": "stream",
     "text": [
      "Hello, Alice!\n"
     ]
    }
   ],
   "source": [
    "def greet(name):\n",
    "    return f\"Hello, {name}!\"\n",
    "\n",
    "print(greet(\"Alice\"))  # Output: Hello, Alice!"
   ]
  },
  {
   "cell_type": "code",
   "execution_count": 2,
   "metadata": {},
   "outputs": [
    {
     "name": "stdout",
     "output_type": "stream",
     "text": [
      "Hello, Alice!\n",
      "Hello, Chief!\n"
     ]
    }
   ],
   "source": [
    "def greet(name='Chief'):\n",
    "    return f\"Hello, {name}!\"\n",
    "\n",
    "print(greet(\"Alice\")) \n",
    "print(greet()) # Output: Hello, Alice!"
   ]
  },
  {
   "cell_type": "markdown",
   "metadata": {},
   "source": [
    "Types of arguments in a function: 3 Types \n",
    "\n",
    "i. Positional argument: Passed in order\n",
    "\n",
    "ii. Keyword argument: passed with 'key=value' format\n",
    "\n",
    "iii. Default argument: sets the defualt value for parameters."
   ]
  },
  {
   "cell_type": "code",
   "execution_count": 3,
   "metadata": {},
   "outputs": [
    {
     "name": "stdout",
     "output_type": "stream",
     "text": [
      "Area (Positional Arguments): 50\n",
      "Name: Alice, Age: 30, Country: USA\n",
      "Hello Guest, Welcome!\n",
      "Hello John, Welcome!\n",
      "Hello Alice, Good morning!\n"
     ]
    }
   ],
   "source": [
    "# Example 1: Positional Arguments\n",
    "def calculate_area(length, width):\n",
    "    \"\"\"Calculate the area of a rectangle\"\"\"\n",
    "    return length * width\n",
    "\n",
    "# Calling the function with positional arguments\n",
    "area = calculate_area(10, 5)  # length = 10, width = 5\n",
    "print(\"Area (Positional Arguments):\", area)  # Output: Area: 50\n",
    "\n",
    "# Example 2: Keyword Arguments\n",
    "def introduce_person(name, age, country):\n",
    "    \"\"\"Introduce a person with name, age, and country\"\"\"\n",
    "    print(f\"Name: {name}, Age: {age}, Country: {country}\")\n",
    "\n",
    "# Calling the function with keyword arguments\n",
    "introduce_person(age=30, name=\"Alice\", country=\"USA\")  # Keyword arguments allow flexibility in order\n",
    "\n",
    "# Example 3: Default Arguments\n",
    "def greet(name=\"Guest\", message=\"Welcome\"):\n",
    "    \"\"\"Greets the person with a default message or custom message\"\"\"\n",
    "    print(f\"Hello {name}, {message}!\")\n",
    "\n",
    "# Calling the function with default arguments\n",
    "greet()  # Uses default values for both arguments\n",
    "greet(\"John\")  # Uses default message\n",
    "greet(\"Alice\", \"Good morning\")  # Uses custom message\n"
   ]
  },
  {
   "cell_type": "markdown",
   "metadata": {},
   "source": [
    "Scope of variable - Local Scope: variables inside the function\n",
    "\n",
    "global scope: variables outside the function."
   ]
  },
  {
   "cell_type": "code",
   "execution_count": 4,
   "metadata": {},
   "outputs": [
    {
     "name": "stdout",
     "output_type": "stream",
     "text": [
      "Before function call Outside the function 10\n",
      "Inside the function 5\n",
      "After function call Outside the function 10\n"
     ]
    }
   ],
   "source": [
    "x=10\n",
    "\n",
    "def update():\n",
    "    x=5\n",
    "    print('Inside the function',x)\n",
    "print('Before function call Outside the function',x)\n",
    "update()\n",
    "print('After function call Outside the function',x)\n"
   ]
  },
  {
   "cell_type": "code",
   "execution_count": 5,
   "metadata": {},
   "outputs": [
    {
     "name": "stdout",
     "output_type": "stream",
     "text": [
      "Before function call Outside the function 10\n",
      "Inside the function 5\n",
      "After function call Outside the function 5\n"
     ]
    }
   ],
   "source": [
    "x=10\n",
    "\n",
    "def update():\n",
    "    global x\n",
    "    x=5\n",
    "    print('Inside the function',x)\n",
    "print('Before function call Outside the function',x)\n",
    "update()\n",
    "print('After function call Outside the function',x)"
   ]
  },
  {
   "cell_type": "markdown",
   "metadata": {},
   "source": [
    "lambda function"
   ]
  },
  {
   "cell_type": "code",
   "execution_count": 6,
   "metadata": {},
   "outputs": [
    {
     "data": {
      "text/plain": [
       "25"
      ]
     },
     "execution_count": 6,
     "metadata": {},
     "output_type": "execute_result"
    }
   ],
   "source": [
    "sqr=lambda x: x**2\n",
    "sqr(x)"
   ]
  },
  {
   "cell_type": "code",
   "execution_count": 7,
   "metadata": {},
   "outputs": [
    {
     "data": {
      "text/plain": [
       "16"
      ]
     },
     "execution_count": 7,
     "metadata": {},
     "output_type": "execute_result"
    }
   ],
   "source": [
    "sqr=lambda x,y: x**y\n",
    "sqr(2,4)"
   ]
  },
  {
   "cell_type": "markdown",
   "metadata": {},
   "source": [
    "Class - provides a means to bundling data and functionalities together. \n",
    "\n",
    "A user defined data type contains both the data itself and methods that maybe used to manipulate it."
   ]
  },
  {
   "cell_type": "code",
   "execution_count": 11,
   "metadata": {},
   "outputs": [
    {
     "name": "stdout",
     "output_type": "stream",
     "text": [
      "7\n",
      "3\n",
      "5\n",
      "1\n",
      "2\n"
     ]
    }
   ],
   "source": [
    "class class_name: \n",
    "    #class attributes \n",
    "    class_variable = 5\n",
    "    #initializer\n",
    "    def __init__(self,parameter1, parameter2):\n",
    "        self.parameter1=parameter1\n",
    "        self.parameter2=parameter2\n",
    "    #method\n",
    "    def method1(self,parameter1,parameter2):\n",
    "        return parameter1+parameter2\n",
    "    def method2(self):\n",
    "        return self.parameter1+self.parameter2\n",
    "\n",
    "var = class_name(1,2)\n",
    "print(var.method1(3,4))\n",
    "print(var.method2())\n",
    "print(var.class_variable)\n",
    "print(var.parameter1)\n",
    "print(var.parameter2)\n"
   ]
  },
  {
   "cell_type": "markdown",
   "metadata": {},
   "source": [
    "Tomorrow:\n",
    "Function overloading\n",
    "constructor\n",
    "function overloading in a class\n",
    "inheritance\n",
    "encapsulation\n",
    "class method attribute"
   ]
  },
  {
   "cell_type": "markdown",
   "metadata": {},
   "source": []
  }
 ],
 "metadata": {
  "kernelspec": {
   "display_name": "Python 3",
   "language": "python",
   "name": "python3"
  },
  "language_info": {
   "codemirror_mode": {
    "name": "ipython",
    "version": 3
   },
   "file_extension": ".py",
   "mimetype": "text/x-python",
   "name": "python",
   "nbconvert_exporter": "python",
   "pygments_lexer": "ipython3",
   "version": "3.12.1"
  }
 },
 "nbformat": 4,
 "nbformat_minor": 2
}
