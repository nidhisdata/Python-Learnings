{
 "cells": [
  {
   "cell_type": "markdown",
   "metadata": {},
   "source": [
    "11-15-2024\n",
    "File System:\n"
   ]
  },
  {
   "cell_type": "code",
   "execution_count": 1,
   "metadata": {},
   "outputs": [
    {
     "data": {
      "text/plain": [
       "['pythonfile-day7.ipynb',\n",
       " 'PRACTICE CODE',\n",
       " 'pythonfile-day8.ipynb',\n",
       " 'pythonfile-day4.ipynb',\n",
       " 'pythonfile-day5.ipynb',\n",
       " 'pythonfile-day2.ipynb',\n",
       " 'Assignment-day5.ipynb',\n",
       " 'pythonfile-day1.ipynb',\n",
       " 'pythonfile-day3.ipynb',\n",
       " '.git',\n",
       " 'Assignment-day1.ipynb',\n",
       " '.gitignore',\n",
       " 'Assignment-day3.ipynb',\n",
       " 'pythonfile-test1.ipynb',\n",
       " 'Assignnment-day2.ipynb',\n",
       " 'pythonfile-day6.ipynb']"
      ]
     },
     "execution_count": 1,
     "metadata": {},
     "output_type": "execute_result"
    }
   ],
   "source": [
    "import os\n",
    "os.listdir(\"/workspaces/Python-Learnings/\")"
   ]
  },
  {
   "cell_type": "code",
   "execution_count": 9,
   "metadata": {},
   "outputs": [
    {
     "name": "stdout",
     "output_type": "stream",
     "text": [
      "['# Byte-compiled / optimized / DLL files\\n', '__pycache__/\\n', '*.py[cod]\\n', '*$py.class\\n', '\\n', '# C extensions\\n', '*.so\\n', '\\n', '# Distribution / packaging\\n', '.Python\\n', 'build/\\n', 'develop-eggs/\\n', 'dist/\\n', 'downloads/\\n', 'eggs/\\n', '.eggs/\\n', 'lib/\\n', 'lib64/\\n', 'parts/\\n', 'sdist/\\n', 'var/\\n', 'wheels/\\n', 'share/python-wheels/\\n', '*.egg-info/\\n', '.installed.cfg\\n', '*.egg\\n', 'MANIFEST\\n', '\\n', '# PyInstaller\\n', '#  Usually these files are written by a python script from a template\\n', '#  before PyInstaller builds the exe, so as to inject date/other infos into it.\\n', '*.manifest\\n', '*.spec\\n', '\\n', '# Installer logs\\n', 'pip-log.txt\\n', 'pip-delete-this-directory.txt\\n', '\\n', '# Unit test / coverage reports\\n', 'htmlcov/\\n', '.tox/\\n', '.nox/\\n', '.coverage\\n', '.coverage.*\\n', '.cache\\n', 'nosetests.xml\\n', 'coverage.xml\\n', '*.cover\\n', '*.py,cover\\n', '.hypothesis/\\n', '.pytest_cache/\\n', 'cover/\\n', '\\n', '# Translations\\n', '*.mo\\n', '*.pot\\n', '\\n', '# Django stuff:\\n', '*.log\\n', 'local_settings.py\\n', 'db.sqlite3\\n', 'db.sqlite3-journal\\n', '\\n', '# Flask stuff:\\n', 'instance/\\n', '.webassets-cache\\n', '\\n', '# Scrapy stuff:\\n', '.scrapy\\n', '\\n', '# Sphinx documentation\\n', 'docs/_build/\\n', '\\n', '# PyBuilder\\n', '.pybuilder/\\n', 'target/\\n', '\\n', '# Jupyter Notebook\\n', '.ipynb_checkpoints\\n', '\\n', '# IPython\\n', 'profile_default/\\n', 'ipython_config.py\\n', '\\n', '# pyenv\\n', '#   For a library or package, you might want to ignore these files since the code is\\n', '#   intended to run in multiple environments; otherwise, check them in:\\n', '# .python-version\\n', '\\n', '# pipenv\\n', '#   According to pypa/pipenv#598, it is recommended to include Pipfile.lock in version control.\\n', '#   However, in case of collaboration, if having platform-specific dependencies or dependencies\\n', \"#   having no cross-platform support, pipenv may install dependencies that don't work, or not\\n\", '#   install all needed dependencies.\\n', '#Pipfile.lock\\n', '\\n', '# poetry\\n', '#   Similar to Pipfile.lock, it is generally recommended to include poetry.lock in version control.\\n', '#   This is especially recommended for binary packages to ensure reproducibility, and is more\\n', '#   commonly ignored for libraries.\\n', '#   https://python-poetry.org/docs/basic-usage/#commit-your-poetrylock-file-to-version-control\\n', '#poetry.lock\\n', '\\n', '# pdm\\n', '#   Similar to Pipfile.lock, it is generally recommended to include pdm.lock in version control.\\n', '#pdm.lock\\n', '#   pdm stores project-wide configurations in .pdm.toml, but it is recommended to not include it\\n', '#   in version control.\\n', '#   https://pdm.fming.dev/latest/usage/project/#working-with-version-control\\n', '.pdm.toml\\n', '.pdm-python\\n', '.pdm-build/\\n', '\\n', '# PEP 582; used by e.g. github.com/David-OConnor/pyflow and github.com/pdm-project/pdm\\n', '__pypackages__/\\n', '\\n', '# Celery stuff\\n', 'celerybeat-schedule\\n', 'celerybeat.pid\\n', '\\n', '# SageMath parsed files\\n', '*.sage.py\\n', '\\n', '# Environments\\n', '.env\\n', '.venv\\n', 'env/\\n', 'venv/\\n', 'ENV/\\n', 'env.bak/\\n', 'venv.bak/\\n', '\\n', '# Spyder project settings\\n', '.spyderproject\\n', '.spyproject\\n', '\\n', '# Rope project settings\\n', '.ropeproject\\n', '\\n', '# mkdocs documentation\\n', '/site\\n', '\\n', '# mypy\\n', '.mypy_cache/\\n', '.dmypy.json\\n', 'dmypy.json\\n', '\\n', '# Pyre type checker\\n', '.pyre/\\n', '\\n', '# pytype static type analyzer\\n', '.pytype/\\n', '\\n', '# Cython debug symbols\\n', 'cython_debug/\\n', '\\n', '# PyCharm\\n', '#  JetBrains specific template is maintained in a separate JetBrains.gitignore that can\\n', '#  be found at https://github.com/github/gitignore/blob/main/Global/JetBrains.gitignore\\n', '#  and can be added to the global gitignore or merged into this file.  For a more nuclear\\n', '#  option (not recommended) you can uncomment the following to ignore the entire idea folder.\\n', '#.idea/\\n']\n"
     ]
    }
   ],
   "source": [
    "with open('.gitignore', 'r') as file:\n",
    "    print(file.readlines())"
   ]
  },
  {
   "cell_type": "code",
   "execution_count": 1,
   "metadata": {},
   "outputs": [],
   "source": [
    "with open('file.text', 'w') as file:\n",
    "    file.write('this is my first file, hello')"
   ]
  },
  {
   "cell_type": "code",
   "execution_count": 5,
   "metadata": {},
   "outputs": [],
   "source": [
    "with open('file.text', 'a') as file: #append\n",
    "    file.write('\\nthis is my third line in this file, world')"
   ]
  }
 ],
 "metadata": {
  "kernelspec": {
   "display_name": "Python 3",
   "language": "python",
   "name": "python3"
  },
  "language_info": {
   "codemirror_mode": {
    "name": "ipython",
    "version": 3
   },
   "file_extension": ".py",
   "mimetype": "text/x-python",
   "name": "python",
   "nbconvert_exporter": "python",
   "pygments_lexer": "ipython3",
   "version": "3.12.1"
  }
 },
 "nbformat": 4,
 "nbformat_minor": 2
}
