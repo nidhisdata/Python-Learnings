{
 "cells": [
  {
   "cell_type": "markdown",
   "metadata": {},
   "source": [
    "Arithmetic operators"
   ]
  },
  {
   "cell_type": "code",
   "execution_count": 1,
   "metadata": {},
   "outputs": [
    {
     "name": "stdout",
     "output_type": "stream",
     "text": [
      "13\n",
      "7\n",
      "30\n",
      "3.3333333333333335\n",
      "1\n",
      "3\n",
      "1000\n"
     ]
    }
   ],
   "source": [
    "a = 10\n",
    "b = 3\n",
    "\n",
    "# Addition\n",
    "print(a + b)  # 13\n",
    "\n",
    "# Subtraction\n",
    "print(a - b)  # 7\n",
    "\n",
    "# Multiplication\n",
    "print(a * b)  # 30\n",
    "\n",
    "# Division\n",
    "print(a / b)  # 3.3333...\n",
    "\n",
    "# Modulus (remainder)\n",
    "print(a % b)  # 1\n",
    "\n",
    "# Floor division (rounds down)\n",
    "print(a // b)  # 3\n",
    "\n",
    "# Exponentiation (power)\n",
    "print(a ** b)  # 1000"
   ]
  },
  {
   "cell_type": "markdown",
   "metadata": {},
   "source": [
    "Common Operators: =, +=, -=, *=, /=, %=, **=, //="
   ]
  },
  {
   "cell_type": "code",
   "execution_count": 3,
   "metadata": {},
   "outputs": [
    {
     "name": "stdout",
     "output_type": "stream",
     "text": [
      "33\n"
     ]
    }
   ],
   "source": [
    "a=10\n",
    "b=23\n",
    "a+=b\n",
    "print(a)"
   ]
  },
  {
   "cell_type": "markdown",
   "metadata": {},
   "source": [
    "Common Operators: ==, !=, >, <, >=, <="
   ]
  },
  {
   "cell_type": "code",
   "execution_count": 9,
   "metadata": {},
   "outputs": [
    {
     "data": {
      "text/plain": [
       "True"
      ]
     },
     "execution_count": 9,
     "metadata": {},
     "output_type": "execute_result"
    }
   ],
   "source": [
    "a=10\n",
    "b=23\n",
    "a!=b"
   ]
  },
  {
   "cell_type": "markdown",
   "metadata": {},
   "source": [
    "Common Operators: and, or, not"
   ]
  },
  {
   "cell_type": "code",
   "execution_count": null,
   "metadata": {},
   "outputs": [
    {
     "data": {
      "text/plain": [
       "True"
      ]
     },
     "execution_count": 13,
     "metadata": {},
     "output_type": "execute_result"
    }
   ],
   "source": [
    "x=14\n",
    "y=29\n",
    "a=10\n",
    "b=23\n",
    "x<y or a>b"
   ]
  },
  {
   "cell_type": "code",
   "execution_count": 14,
   "metadata": {},
   "outputs": [
    {
     "data": {
      "text/plain": [
       "False"
      ]
     },
     "execution_count": 14,
     "metadata": {},
     "output_type": "execute_result"
    }
   ],
   "source": [
    "not(True)"
   ]
  },
  {
   "cell_type": "markdown",
   "metadata": {},
   "source": [
    "Common Operators: &, |, ^, ~, <<, >>"
   ]
  },
  {
   "cell_type": "code",
   "execution_count": 15,
   "metadata": {},
   "outputs": [
    {
     "name": "stdout",
     "output_type": "stream",
     "text": [
      "1\n",
      "7\n",
      "6\n",
      "-6\n",
      "10\n",
      "1\n"
     ]
    }
   ],
   "source": [
    "a = 5  # Binary: 0101\n",
    "b = 3  # Binary: 0011\n",
    "\n",
    "print(a & b)  # 1 (Binary: 0001)\n",
    "print(a | b)  # 7 (Binary: 0111)\n",
    "print(a ^ b)  # 6 (Binary: 0110)\n",
    "print(~a)     # -6 (Inverts bits)\n",
    "print(a << 1) # 10 (Binary: 1010, shifts left by 1)\n",
    "print(b >> 1) # 1 (Binary: 0001, shifts right by 1)\n"
   ]
  },
  {
   "cell_type": "markdown",
   "metadata": {},
   "source": [
    "Assignment Day 2: "
   ]
  }
 ],
 "metadata": {
  "kernelspec": {
   "display_name": "Python 3",
   "language": "python",
   "name": "python3"
  },
  "language_info": {
   "codemirror_mode": {
    "name": "ipython",
    "version": 3
   },
   "file_extension": ".py",
   "mimetype": "text/x-python",
   "name": "python",
   "nbconvert_exporter": "python",
   "pygments_lexer": "ipython3",
   "version": "3.12.1"
  }
 },
 "nbformat": 4,
 "nbformat_minor": 2
}
