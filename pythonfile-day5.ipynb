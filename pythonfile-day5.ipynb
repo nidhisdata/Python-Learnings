{
 "cells": [
  {
   "cell_type": "markdown",
   "metadata": {},
   "source": [
    "Strings"
   ]
  },
  {
   "cell_type": "code",
   "execution_count": 1,
   "metadata": {},
   "outputs": [
    {
     "name": "stdout",
     "output_type": "stream",
     "text": [
      "h\n",
      "e\n",
      "l\n",
      "l\n",
      "o\n"
     ]
    }
   ],
   "source": [
    "x = 'hello'\n",
    "for i in x:\n",
    "    print(i)"
   ]
  },
  {
   "cell_type": "code",
   "execution_count": 5,
   "metadata": {},
   "outputs": [
    {
     "name": "stdout",
     "output_type": "stream",
     "text": [
      "h o\n"
     ]
    }
   ],
   "source": [
    "print(x[0],x[-1])"
   ]
  },
  {
   "cell_type": "code",
   "execution_count": 8,
   "metadata": {},
   "outputs": [
    {
     "name": "stdout",
     "output_type": "stream",
     "text": [
      " This is a long format string.\n",
      "this is a second line.\n",
      "this is third line. \n"
     ]
    }
   ],
   "source": [
    "a = \"\"\" This is a long format string.\n",
    "this is a second line.\n",
    "this is third line. \"\"\"\n",
    "print(a)\n"
   ]
  },
  {
   "cell_type": "code",
   "execution_count": 13,
   "metadata": {},
   "outputs": [
    {
     "name": "stdout",
     "output_type": "stream",
     "text": [
      "This is a\n",
      " print statement\n",
      "This is a\t print statement\n",
      "This is a\\ print statement\n"
     ]
    }
   ],
   "source": [
    "print(\"This is a\\n print statement\")\n",
    "print(\"This is a\\t print statement\")\n",
    "print(\"This is a\\\\ print statement\")"
   ]
  },
  {
   "cell_type": "code",
   "execution_count": null,
   "metadata": {},
   "outputs": [
    {
     "data": {
      "text/plain": [
       "'abc\\tabc\\tabc\\t'"
      ]
     },
     "execution_count": 15,
     "metadata": {},
     "output_type": "execute_result"
    }
   ],
   "source": [
    "r='abc'\n",
    "r*3"
   ]
  },
  {
   "cell_type": "code",
   "execution_count": null,
   "metadata": {},
   "outputs": [
    {
     "data": {
      "text/plain": [
       "('This', 'This')"
      ]
     },
     "execution_count": 19,
     "metadata": {},
     "output_type": "execute_result"
    }
   ],
   "source": [
    "e='This is a sentence.'\n",
    "e[:4], e[0:4] # if you put comma, it creates a tuple. See output"
   ]
  },
  {
   "cell_type": "code",
   "execution_count": 24,
   "metadata": {},
   "outputs": [
    {
     "name": "stdout",
     "output_type": "stream",
     "text": [
      ".ecnetnes a si sihT\n"
     ]
    }
   ],
   "source": [
    "e=\"This is a sentence.\"\n",
    "print(e[::-1])"
   ]
  },
  {
   "cell_type": "code",
   "execution_count": null,
   "metadata": {},
   "outputs": [
    {
     "data": {
      "text/plain": [
       "19"
      ]
     },
     "execution_count": 25,
     "metadata": {},
     "output_type": "execute_result"
    }
   ],
   "source": [
    "e=\"This is a sentence.\"\n",
    "len(e) #includes the spaces in count"
   ]
  },
  {
   "cell_type": "code",
   "execution_count": null,
   "metadata": {},
   "outputs": [
    {
     "data": {
      "text/plain": [
       "('this is a sentence.', 'THIS IS A SENTENCE.')"
      ]
     },
     "execution_count": 29,
     "metadata": {},
     "output_type": "execute_result"
    }
   ],
   "source": [
    "e=\"This is a sentence.\"\n",
    "e.lower(),e.upper() #string here is not a datatype here. its a class. "
   ]
  },
  {
   "cell_type": "code",
   "execution_count": 30,
   "metadata": {},
   "outputs": [
    {
     "data": {
      "text/plain": [
       "'This is a sentence.'"
      ]
     },
     "execution_count": 30,
     "metadata": {},
     "output_type": "execute_result"
    }
   ],
   "source": [
    "e=\"  This is a sentence.    \"\n",
    "e.strip()"
   ]
  },
  {
   "cell_type": "code",
   "execution_count": null,
   "metadata": {},
   "outputs": [
    {
     "data": {
      "text/plain": [
       "0"
      ]
     },
     "execution_count": 41,
     "metadata": {},
     "output_type": "execute_result"
    }
   ],
   "source": [
    "e=\"  This is a sentence.\"\n",
    "e.strip().lower().find('this is') #two or more functions in the same line use case."
   ]
  },
  {
   "cell_type": "code",
   "execution_count": 42,
   "metadata": {},
   "outputs": [
    {
     "data": {
      "text/plain": [
       "'  This is a string.'"
      ]
     },
     "execution_count": 42,
     "metadata": {},
     "output_type": "execute_result"
    }
   ],
   "source": [
    "e=\"  This is a sentence.\"\n",
    "e.replace('sentence','string')"
   ]
  },
  {
   "cell_type": "code",
   "execution_count": 45,
   "metadata": {},
   "outputs": [
    {
     "data": {
      "text/plain": [
       "('cat, camilla, chief', ['cat', 'camilla', 'chief'])"
      ]
     },
     "execution_count": 45,
     "metadata": {},
     "output_type": "execute_result"
    }
   ],
   "source": [
    "w=[\"cat\", \"camilla\", \"chief\"]\n",
    "sentence = ', '.join(w)\n",
    "sentence, sentence.split(', ')"
   ]
  },
  {
   "cell_type": "code",
   "execution_count": 47,
   "metadata": {},
   "outputs": [
    {
     "name": "stdout",
     "output_type": "stream",
     "text": [
      "True\n",
      "False\n",
      "False\n",
      "True\n"
     ]
    }
   ],
   "source": [
    "t='abc'\n",
    "print(t.isalpha())\n",
    "t='abc1'\n",
    "print(t.isalpha())\n",
    "print(t.isdigit())\n",
    "t='123'\n",
    "print(t.isdigit())\n"
   ]
  },
  {
   "cell_type": "code",
   "execution_count": null,
   "metadata": {},
   "outputs": [
    {
     "name": "stdout",
     "output_type": "stream",
     "text": [
      "abc is a string statement\n"
     ]
    }
   ],
   "source": [
    "t='abc'\n",
    "print(f\"{t} is a string statement\") # two more ways to use f string "
   ]
  },
  {
   "cell_type": "code",
   "execution_count": 49,
   "metadata": {},
   "outputs": [
    {
     "name": "stdout",
     "output_type": "stream",
     "text": [
      "Hello, my name is Alice and I am 25 years old.\n"
     ]
    }
   ],
   "source": [
    "name = \"Alice\"\n",
    "age = 25\n",
    "print(\"Hello, my name is {} and I am {} years old.\".format(name, age))\n",
    "# Output: 'Hello, my name is Alice and I am 25 years old.'"
   ]
  },
  {
   "cell_type": "code",
   "execution_count": 50,
   "metadata": {},
   "outputs": [
    {
     "name": "stdout",
     "output_type": "stream",
     "text": [
      "Hello, my name is Alice and I am 25 years old.\n"
     ]
    }
   ],
   "source": [
    "name = \"Alice\"\n",
    "age = 25\n",
    "print(\"Hello, my name is %s and I am %d years old.\" % (name, age))\n",
    "# Output: 'Hello, my name is Alice and I am 25 years old.'"
   ]
  },
  {
   "cell_type": "code",
   "execution_count": 52,
   "metadata": {},
   "outputs": [
    {
     "name": "stdout",
     "output_type": "stream",
     "text": [
      "Nidhi\n",
      "20\n"
     ]
    }
   ],
   "source": [
    "name=input('Put your name here:')\n",
    "print(name)\n",
    "age=int(input(\"Put your age here\"))\n",
    "print(age)"
   ]
  },
  {
   "cell_type": "code",
   "execution_count": 53,
   "metadata": {},
   "outputs": [
    {
     "name": "stdout",
     "output_type": "stream",
     "text": [
      "20.6\n"
     ]
    }
   ],
   "source": [
    "age=float(input(\"Put your age here\"))\n",
    "print(age)"
   ]
  },
  {
   "cell_type": "code",
   "execution_count": null,
   "metadata": {},
   "outputs": [
    {
     "data": {
      "text/plain": [
       "'this is right'"
      ]
     },
     "execution_count": 58,
     "metadata": {},
     "output_type": "execute_result"
    }
   ],
   "source": [
    "q='right'\n",
    "r='this is'\n",
    "r+' '+q #concacat the strings"
   ]
  },
  {
   "cell_type": "markdown",
   "metadata": {},
   "source": [
    "Question 1: Reverse a String\n",
    "Example:\n",
    "Input: \"hello\"\n",
    "Output: \"olleh\"\n",
    "\n",
    "\n",
    "Question 2: Check if a String is a Palindrome\n",
    "Example:\n",
    "Input: \"racecar\"\n",
    "Output: True\n",
    "\n",
    "Input: \"hello\"\n",
    "Output: False\n",
    "\n",
    "\n",
    "Question 3: Count Vowels and Consonants\n",
    "Example:\n",
    "Input: \"hello\"\n",
    "Output: (2, 3)\n",
    "\n",
    "Input: \"data structures\"\n",
    "Output: (5, 9)\n",
    "\n",
    "Question 4: Find the First Non-Repeating Character\n",
    "Example:\n",
    "Input: \"swiss\"\n",
    "Output: \"w\"\n",
    "\n",
    "Input: \"success\"\n",
    "Output: \"u\"\n",
    "\n",
    "Input: \"aabbcc\"\n",
    "Output: None"
   ]
  }
 ],
 "metadata": {
  "kernelspec": {
   "display_name": "Python 3",
   "language": "python",
   "name": "python3"
  },
  "language_info": {
   "codemirror_mode": {
    "name": "ipython",
    "version": 3
   },
   "file_extension": ".py",
   "mimetype": "text/x-python",
   "name": "python",
   "nbconvert_exporter": "python",
   "pygments_lexer": "ipython3",
   "version": "3.12.1"
  }
 },
 "nbformat": 4,
 "nbformat_minor": 2
}
