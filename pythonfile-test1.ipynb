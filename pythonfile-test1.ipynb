{
 "cells": [
  {
   "cell_type": "markdown",
   "metadata": {},
   "source": [
    "Print a pattern \n",
    "A\n",
    "A B\n",
    "A B C\n",
    "A B C D\n",
    "A B C D E\n",
    "A B C D E F"
   ]
  },
  {
   "cell_type": "code",
   "execution_count": 4,
   "metadata": {},
   "outputs": [
    {
     "data": {
      "text/plain": [
       "66"
      ]
     },
     "execution_count": 4,
     "metadata": {},
     "output_type": "execute_result"
    }
   ],
   "source": [
    "ord('B')"
   ]
  },
  {
   "cell_type": "code",
   "execution_count": null,
   "metadata": {},
   "outputs": [
    {
     "name": "stdout",
     "output_type": "stream",
     "text": [
      "A \n",
      "A B \n",
      "A B C \n",
      "A B C D \n",
      "A B C D E \n",
      "A B C D E F \n"
     ]
    }
   ],
   "source": [
    "row = 6\n",
    "for i in range(1, row+1):\n",
    "    for j in range(i):\n",
    "        print(chr(65+j), end=' ') # rememeber this 65 for capital letters\n",
    "    print()"
   ]
  },
  {
   "cell_type": "markdown",
   "metadata": {},
   "source": [
    "write a program in python to display the grade of a student. If the students grades between 100 and 80 then its A, if above 60 he gets a B, if greater than 40 then C, otherwise fail."
   ]
  },
  {
   "cell_type": "code",
   "execution_count": 12,
   "metadata": {},
   "outputs": [
    {
     "name": "stdout",
     "output_type": "stream",
     "text": [
      "A\n"
     ]
    }
   ],
   "source": [
    "grade = int(input(\"Enter the marks:\"))\n",
    "\n",
    "if grade >= 80 and grade <= 100:\n",
    "    grade = 'A'\n",
    "elif grade >= 60 and grade < 80:\n",
    "    grade = 'B'\n",
    "elif grade >= 40 and grade < 60:\n",
    "    grade = 'C'\n",
    "else:\n",
    "    grade = 'Fail'\n",
    "print(grade)"
   ]
  },
  {
   "cell_type": "markdown",
   "metadata": {},
   "source": [
    "count the vowels and consonants from a given input string:\n"
   ]
  },
  {
   "cell_type": "code",
   "execution_count": 17,
   "metadata": {},
   "outputs": [
    {
     "name": "stdout",
     "output_type": "stream",
     "text": [
      "(3, 3)\n"
     ]
    }
   ],
   "source": [
    "word = str(input(\"Enter the word:\"))\n",
    "vowels = \"aeiou\"\n",
    "count_v = 0\n",
    "count_c = 0\n",
    "\n",
    "for x in word:\n",
    "    if x.isalpha() and x in vowels:\n",
    "        count_v += 1\n",
    "    else:\n",
    "        count_c += 1\n",
    "print((count_v,count_c))\n",
    "\n",
    "\n"
   ]
  },
  {
   "cell_type": "markdown",
   "metadata": {},
   "source": [
    "print the factorial of a given number"
   ]
  },
  {
   "cell_type": "code",
   "execution_count": 19,
   "metadata": {},
   "outputs": [
    {
     "name": "stdout",
     "output_type": "stream",
     "text": [
      "720\n"
     ]
    }
   ],
   "source": [
    "number = int(input('Enter the number:'))\n",
    "fact = 1\n",
    "for i in range(1,number+1):\n",
    "    fact *= i\n",
    "print(fact)\n"
   ]
  },
  {
   "cell_type": "markdown",
   "metadata": {},
   "source": [
    "check if the number is prime or not"
   ]
  },
  {
   "cell_type": "code",
   "execution_count": 24,
   "metadata": {},
   "outputs": [
    {
     "name": "stdout",
     "output_type": "stream",
     "text": [
      "11 is prime\n"
     ]
    }
   ],
   "source": [
    "number = int(input('Enter the number:'))\n",
    "\n",
    "if number % 2 == 0:\n",
    "    print(f\"{number} is not prime\")\n",
    "else:\n",
    "    for i in range(2, number):\n",
    "        if number % i == 0:\n",
    "            print(f\"{number} is not prime\")\n",
    "            break\n",
    "    else:\n",
    "        print(f\"{number} is prime\")"
   ]
  },
  {
   "cell_type": "markdown",
   "metadata": {},
   "source": [
    "Homework - \n",
    "fibonnaci series \n",
    "longest word in a string - user input"
   ]
  }
 ],
 "metadata": {
  "kernelspec": {
   "display_name": "Python 3",
   "language": "python",
   "name": "python3"
  },
  "language_info": {
   "codemirror_mode": {
    "name": "ipython",
    "version": 3
   },
   "file_extension": ".py",
   "mimetype": "text/x-python",
   "name": "python",
   "nbconvert_exporter": "python",
   "pygments_lexer": "ipython3",
   "version": "3.12.1"
  }
 },
 "nbformat": 4,
 "nbformat_minor": 2
}
