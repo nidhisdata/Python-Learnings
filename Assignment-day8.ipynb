{
 "cells": [
  {
   "cell_type": "code",
   "execution_count": 2,
   "metadata": {},
   "outputs": [
    {
     "name": "stdout",
     "output_type": "stream",
     "text": [
      "Directory 'new_dir' created successfully.\n"
     ]
    }
   ],
   "source": [
    "import os\n",
    "directory_name = \"new_dir\"\n",
    "os.mkdir(directory_name)\n",
    "print(f\"Directory '{directory_name}' created successfully.\")"
   ]
  },
  {
   "cell_type": "code",
   "execution_count": 5,
   "metadata": {},
   "outputs": [
    {
     "name": "stdout",
     "output_type": "stream",
     "text": [
      "Source path renamed to destination path successfully.\n"
     ]
    }
   ],
   "source": [
    "import os\n",
    "source = 'file.text'\n",
    "dest = 'newfile.text'\n",
    "os.rename(source, dest)\n",
    "print(\"Source path renamed to destination path successfully.\")\n"
   ]
  },
  {
   "cell_type": "code",
   "execution_count": 6,
   "metadata": {},
   "outputs": [],
   "source": [
    "with open('filetodelete.text', 'w') as file:\n",
    "    file.write('this is my second file, hello')"
   ]
  },
  {
   "cell_type": "code",
   "execution_count": 7,
   "metadata": {},
   "outputs": [],
   "source": [
    "import os\n",
    "os.remove(\"filetodelete.text\")"
   ]
  },
  {
   "cell_type": "code",
   "execution_count": 10,
   "metadata": {},
   "outputs": [
    {
     "name": "stdout",
     "output_type": "stream",
     "text": [
      "/workspaces/Python-Learnings/newfile.text\n"
     ]
    }
   ],
   "source": [
    "import os\n",
    "path = \"/workspaces\"\n",
    "print(os.path.join(path, \"Python-Learnings\", \"newfile.text\"))"
   ]
  },
  {
   "cell_type": "code",
   "execution_count": 11,
   "metadata": {},
   "outputs": [
    {
     "name": "stdout",
     "output_type": "stream",
     "text": [
      "JSON string =  {'name': 'Chief', 'Breed': 'GoldenDoodle'}\n"
     ]
    }
   ],
   "source": [
    "import json\n",
    "string = '{\"name\": \"Chief\", \"Breed\": \"GoldenDoodle\"}'\n",
    "y = json.loads(string)\n",
    "print(\"JSON string = \", y)"
   ]
  }
 ],
 "metadata": {
  "kernelspec": {
   "display_name": "Python 3",
   "language": "python",
   "name": "python3"
  },
  "language_info": {
   "codemirror_mode": {
    "name": "ipython",
    "version": 3
   },
   "file_extension": ".py",
   "mimetype": "text/x-python",
   "name": "python",
   "nbconvert_exporter": "python",
   "pygments_lexer": "ipython3",
   "version": "3.12.1"
  }
 },
 "nbformat": 4,
 "nbformat_minor": 2
}
