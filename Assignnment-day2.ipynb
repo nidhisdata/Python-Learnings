{
 "cells": [
  {
   "cell_type": "markdown",
   "metadata": {},
   "source": [
    "Write a program to calculate the following:\n",
    "i. Area of a circle.\n",
    "ii. Volume of a cylinder"
   ]
  },
  {
   "cell_type": "code",
   "execution_count": 3,
   "metadata": {},
   "outputs": [
    {
     "name": "stdout",
     "output_type": "stream",
     "text": [
      " The area of the given circle is:  28.259999999999998\n"
     ]
    }
   ],
   "source": [
    "π = 3.14  \n",
    "Radius = float (input (\"Please enter the radius of the given circle: \"))  \n",
    "area_of_the_circle = π*Radius*Radius  \n",
    "print (\" The area of the given circle is: \", area_of_the_circle)"
   ]
  },
  {
   "cell_type": "code",
   "execution_count": 2,
   "metadata": {},
   "outputs": [
    {
     "name": "stdout",
     "output_type": "stream",
     "text": [
      " The area of the given cylinder is:  84.78\n"
     ]
    }
   ],
   "source": [
    "π = 3.14\n",
    "Radius = float (input (\"Please enter the radius of the given cylinder: \"))\n",
    "Height = float(input (\"Please enter the height of the given cylinder: \"))\n",
    "volume_of_the_cylinder = π*Radius*Radius*Height\n",
    "print(\" The area of the given cylinder is: \", volume_of_the_cylinder)\n"
   ]
  },
  {
   "cell_type": "markdown",
   "metadata": {},
   "source": [
    "Start with a variable x=50 and then do the following operations consecutively. \n",
    "i. Add 10 to x\n",
    "ii. Multiply x by 2\n",
    "iii. Substract 15 from x\n",
    "iv. Divide x by 3"
   ]
  },
  {
   "cell_type": "code",
   "execution_count": 9,
   "metadata": {},
   "outputs": [
    {
     "name": "stdout",
     "output_type": "stream",
     "text": [
      "60\n",
      "120\n",
      "105\n",
      "35.0\n"
     ]
    }
   ],
   "source": [
    "x=50\n",
    "x+=10\n",
    "print(x);\n",
    "x*=2\n",
    "print(x);\n",
    "x-=15\n",
    "print(x)\n",
    "x/=3\n",
    "print(x)"
   ]
  }
 ],
 "metadata": {
  "kernelspec": {
   "display_name": "python3.9",
   "language": "python",
   "name": "python3"
  },
  "language_info": {
   "codemirror_mode": {
    "name": "ipython",
    "version": 3
   },
   "file_extension": ".py",
   "mimetype": "text/x-python",
   "name": "python",
   "nbconvert_exporter": "python",
   "pygments_lexer": "ipython3",
   "version": "3.9.20"
  }
 },
 "nbformat": 4,
 "nbformat_minor": 2
}
