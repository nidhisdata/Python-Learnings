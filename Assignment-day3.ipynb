{
 "cells": [
  {
   "cell_type": "markdown",
   "metadata": {},
   "source": [
    "Write a program that asks the user to enter their age. If the age is between 13 and 19, print \"You are a teenager.\" If the age is between 20 and 59, print \"You are an adult.\" Otherwise, print \"You are either a child or a senior citizen.\"\n",
    "\n",
    "For Loop with Condition:\n",
    "Write a program using a for loop that prints all numbers from 1 to 50. For each number, if it is divisible by both 3 and 5, print \"FizzBuzz\" instead of the number. If it is divisible by only 3, print \"Fizz,\" and if only by 5, print \"Buzz.\"\n",
    "\n",
    "While Loop:\n",
    "Write a program that keeps asking the user to guess a password until they enter \"python123\". Each time the user guesses incorrectly, print \"Try again.\" When they guess correctly, print \"Access Granted."
   ]
  },
  {
   "cell_type": "code",
   "execution_count": 4,
   "metadata": {},
   "outputs": [
    {
     "name": "stdout",
     "output_type": "stream",
     "text": [
      "You are either a child or a senior citizen\n"
     ]
    }
   ],
   "source": [
    "age = int(input(\"Please enter the age: \")) \n",
    "if age>=13 and age<=19:\n",
    "    print('You are a teenager')\n",
    "elif age>=20 and age<=59:\n",
    "    print('You are an adult')\n",
    "else:\n",
    "    print('You are either a child or a senior citizen')"
   ]
  },
  {
   "cell_type": "code",
   "execution_count": 10,
   "metadata": {},
   "outputs": [
    {
     "name": "stdout",
     "output_type": "stream",
     "text": [
      "FizzBuzz\n",
      "FizzBuzz\n",
      "FizzBuzz\n",
      "Fizz\n",
      "Buzz\n",
      "FizzBuzz\n",
      "FizzBuzz\n",
      "Fizz\n",
      "FizzBuzz\n",
      "Fizz\n",
      "Buzz\n",
      "FizzBuzz\n",
      "FizzBuzz\n",
      "Fizz\n",
      "FizzBuzz\n",
      "FizzBuzz\n",
      "FizzBuzz\n",
      "Fizz\n",
      "Buzz\n",
      "FizzBuzz\n",
      "FizzBuzz\n",
      "Fizz\n",
      "FizzBuzz\n",
      "Fizz\n",
      "Buzz\n",
      "FizzBuzz\n",
      "FizzBuzz\n",
      "Fizz\n",
      "FizzBuzz\n",
      "FizzBuzz\n",
      "FizzBuzz\n",
      "Fizz\n",
      "Buzz\n",
      "FizzBuzz\n",
      "FizzBuzz\n",
      "Fizz\n",
      "FizzBuzz\n",
      "Fizz\n",
      "Buzz\n",
      "FizzBuzz\n",
      "FizzBuzz\n",
      "Fizz\n",
      "FizzBuzz\n",
      "FizzBuzz\n",
      "FizzBuzz\n",
      "Fizz\n",
      "Buzz\n",
      "FizzBuzz\n"
     ]
    }
   ],
   "source": [
    "for i in range(0, 51):\n",
    "    for x in (3, 5):\n",
    "        if i % x == 0:\n",
    "            print(\"FizzBuzz\")\n",
    "        elif i % 3 == 0:\n",
    "            print(\"Fizz\")\n",
    "        elif i % 5 == 0:\n",
    "            print(\"Buzz\")"
   ]
  },
  {
   "cell_type": "code",
   "execution_count": 19,
   "metadata": {},
   "outputs": [
    {
     "name": "stdout",
     "output_type": "stream",
     "text": [
      "Try Again\n",
      "Access Granted\n"
     ]
    }
   ],
   "source": [
    "user_input = \"\"\n",
    "while user_input != \"python123\":\n",
    "    user_input = input(\"Enter the password to access: Hint:python \")\n",
    "    if user_input != \"python123\":\n",
    "        print(\"Try Again\")\n",
    "    elif user_input == \"python123\":\n",
    "        print(\"Access Granted\")\n"
   ]
  },
  {
   "cell_type": "markdown",
   "metadata": {},
   "source": [
    "Write a Python program that prompts the user to enter a number of rows (n). Then, using nested for loops, print an upside-down right-angle triangle pattern with n rows. For example, if the user enters n = 5, the output should be: \n",
    "\n",
    "![image.png](attachment:image.png)"
   ]
  },
  {
   "cell_type": "code",
   "execution_count": 26,
   "metadata": {},
   "outputs": [
    {
     "name": "stdout",
     "output_type": "stream",
     "text": [
      "* * * * * \n",
      "* * * * \n",
      "* * * \n",
      "* * \n",
      "* \n"
     ]
    }
   ],
   "source": [
    "rows = int(input(\"Enter the number of rows(n): \"))\n",
    "\n",
    "for i in range(rows, 0, -1):\n",
    "    for j in range(i):\n",
    "        print(\"*\", end=\" \")\n",
    "    print()"
   ]
  }
 ],
 "metadata": {
  "kernelspec": {
   "display_name": "Python 3",
   "language": "python",
   "name": "python3"
  },
  "language_info": {
   "codemirror_mode": {
    "name": "ipython",
    "version": 3
   },
   "file_extension": ".py",
   "mimetype": "text/x-python",
   "name": "python",
   "nbconvert_exporter": "python",
   "pygments_lexer": "ipython3",
   "version": "3.12.1"
  }
 },
 "nbformat": 4,
 "nbformat_minor": 2
}
