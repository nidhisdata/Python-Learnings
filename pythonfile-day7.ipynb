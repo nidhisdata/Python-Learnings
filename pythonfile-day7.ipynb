{
 "cells": [
  {
   "cell_type": "markdown",
   "metadata": {},
   "source": [
    "Function overloading: When a function is being used multiple times with the same name but different parameters."
   ]
  },
  {
   "cell_type": "code",
   "execution_count": 8,
   "metadata": {},
   "outputs": [
    {
     "name": "stdout",
     "output_type": "stream",
     "text": [
      "6\n"
     ]
    },
    {
     "data": {
      "text/plain": [
       "(7, 8)"
      ]
     },
     "execution_count": 8,
     "metadata": {},
     "output_type": "execute_result"
    }
   ],
   "source": [
    "def func_name(c):\n",
    "    return c\n",
    "print(func_name(6))\n",
    "def func_name(c,d):\n",
    "    return c,d\n",
    "func_name(7,8)"
   ]
  },
  {
   "cell_type": "code",
   "execution_count": 9,
   "metadata": {},
   "outputs": [
    {
     "name": "stdout",
     "output_type": "stream",
     "text": [
      "5\n",
      "8\n",
      "10\n"
     ]
    }
   ],
   "source": [
    "def add(a, b=0, c=0):\n",
    "    return a + b + c\n",
    "\n",
    "# Overloaded function behavior\n",
    "print(add(5))            # Output: 5\n",
    "print(add(5, 3))         # Output: 8\n",
    "print(add(5, 3, 2))      # Output: 10"
   ]
  },
  {
   "cell_type": "code",
   "execution_count": null,
   "metadata": {},
   "outputs": [
    {
     "name": "stdout",
     "output_type": "stream",
     "text": [
      "(5,)\n",
      "5\n",
      "(5, 3)\n",
      "8\n",
      "(5, 3, 2, 1)\n",
      "11\n"
     ]
    }
   ],
   "source": [
    "def add(*args): #when you put * it automatically takes a tuple.\n",
    "    print(args)\n",
    "    return sum(args)\n",
    "\n",
    "print(add(5))            # Output: 5\n",
    "print(add(5, 3))         # Output: 8\n",
    "print(add(5, 3, 2, 1))   # Output: 11"
   ]
  },
  {
   "cell_type": "markdown",
   "metadata": {},
   "source": [
    "Constructor: it's a function which has the same name as a class. and init function "
   ]
  },
  {
   "cell_type": "code",
   "execution_count": 12,
   "metadata": {},
   "outputs": [
    {
     "name": "stdout",
     "output_type": "stream",
     "text": [
      "Name: Unknown, Age: 0\n",
      "Name: Alice, Age: 30\n"
     ]
    }
   ],
   "source": [
    "class Person:\n",
    "    def __init__(self, name=\"Unknown\", age=0):\n",
    "        self.name = name\n",
    "        self.age = age\n",
    "\n",
    "    def display(self):\n",
    "        print(f\"Name: {self.name}, Age: {self.age}\")\n",
    "\n",
    "# Constructor overloading simulation\n",
    "p1 = Person()             # Default constructor\n",
    "p2 = Person(\"Alice\", 30)  # Constructor with parameters\n",
    "\n",
    "p1.display()  # Output: Name: Unknown, Age: 0\n",
    "p2.display()  # Output: Name: Alice, Age: 30"
   ]
  },
  {
   "cell_type": "code",
   "execution_count": 18,
   "metadata": {},
   "outputs": [
    {
     "name": "stdout",
     "output_type": "stream",
     "text": [
      "The dog's color is white\n"
     ]
    }
   ],
   "source": [
    "class Animal:\n",
    "    def __init__(self, name=\"Chief\", age=6):\n",
    "        self.name=name\n",
    "        self.age=age\n",
    "    def display(self):\n",
    "        print(f\"The dog's name is {self.name}\")\n",
    "\n",
    "class Dog(Animal):\n",
    "    def __init__(self, name1, color=\"white\"):\n",
    "        self.name=name1\n",
    "        self.color=color\n",
    "    def display(self):\n",
    "        print(f\"The dog's color is {self.color}\")\n",
    "\n",
    "v1 = Dog(name1='Chief')\n",
    "v1.display()\n",
    "    \n"
   ]
  }
 ],
 "metadata": {
  "kernelspec": {
   "display_name": "Python 3",
   "language": "python",
   "name": "python3"
  },
  "language_info": {
   "codemirror_mode": {
    "name": "ipython",
    "version": 3
   },
   "file_extension": ".py",
   "mimetype": "text/x-python",
   "name": "python",
   "nbconvert_exporter": "python",
   "pygments_lexer": "ipython3",
   "version": "3.12.1"
  }
 },
 "nbformat": 4,
 "nbformat_minor": 2
}
