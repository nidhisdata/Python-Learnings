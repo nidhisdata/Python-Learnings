{
 "cells": [
  {
   "cell_type": "markdown",
   "metadata": {},
   "source": [
    "Lists"
   ]
  },
  {
   "cell_type": "code",
   "execution_count": 3,
   "metadata": {},
   "outputs": [
    {
     "name": "stdout",
     "output_type": "stream",
     "text": [
      "['a', 'b', 'c', 'd', 1, 2, 3, 2.2, 6.9]\n"
     ]
    }
   ],
   "source": [
    "x = ['a','b','c','d', 1,2,3, 2.2, 6.9]\n",
    "print(x)"
   ]
  },
  {
   "cell_type": "code",
   "execution_count": 5,
   "metadata": {},
   "outputs": [
    {
     "data": {
      "text/plain": [
       "6.9"
      ]
     },
     "execution_count": 5,
     "metadata": {},
     "output_type": "execute_result"
    }
   ],
   "source": [
    "x[-1]"
   ]
  },
  {
   "cell_type": "code",
   "execution_count": 6,
   "metadata": {},
   "outputs": [
    {
     "name": "stdout",
     "output_type": "stream",
     "text": [
      "apple\n",
      "['apple', 'blueberry', 'cherry']\n",
      "['apple', 'blueberry', 'cherry', 'orange']\n",
      "['blueberry', 'cherry', 'orange']\n",
      "['cherry', 'orange']\n"
     ]
    }
   ],
   "source": [
    "# Creating a list\n",
    "fruits = [\"apple\", \"banana\", \"cherry\"]\n",
    "\n",
    "# Accessing elements\n",
    "print(fruits[0])  # Output: apple\n",
    "\n",
    "# Modifying elements\n",
    "fruits[1] = \"blueberry\"\n",
    "print(fruits)  # Output: ['apple', 'blueberry', 'cherry']\n",
    "\n",
    "# Adding elements\n",
    "fruits.append(\"orange\")\n",
    "print(fruits)  # Output: ['apple', 'blueberry', 'cherry', 'orange']\n",
    "\n",
    "# Removing elements\n",
    "fruits.remove(\"apple\")\n",
    "print(fruits)  # Output: ['blueberry', 'cherry', 'orange']\n",
    "\n",
    "# Slicing\n",
    "print(fruits[1:])  # Output: ['cherry', 'orange']"
   ]
  },
  {
   "cell_type": "code",
   "execution_count": 7,
   "metadata": {},
   "outputs": [
    {
     "name": "stdout",
     "output_type": "stream",
     "text": [
      "[2, 4, 5, 6, 8, 9]\n"
     ]
    }
   ],
   "source": [
    "a=[5,4,6,2,8,9]\n",
    "a.sort()\n",
    "print(a)"
   ]
  },
  {
   "cell_type": "markdown",
   "metadata": {},
   "source": [
    "Assignment - Look for pop and extend function in lists."
   ]
  },
  {
   "cell_type": "code",
   "execution_count": 8,
   "metadata": {},
   "outputs": [
    {
     "data": {
      "text/plain": [
       "9"
      ]
     },
     "execution_count": 8,
     "metadata": {},
     "output_type": "execute_result"
    }
   ],
   "source": [
    "a=[5,4,6,2,8,9]\n",
    "a.pop()\n",
    "#print(a)"
   ]
  },
  {
   "cell_type": "code",
   "execution_count": 9,
   "metadata": {},
   "outputs": [
    {
     "data": {
      "text/plain": [
       "[5, 4, 6, 2, 8]"
      ]
     },
     "execution_count": 9,
     "metadata": {},
     "output_type": "execute_result"
    }
   ],
   "source": [
    "a"
   ]
  },
  {
   "cell_type": "markdown",
   "metadata": {},
   "source": [
    "Tuples"
   ]
  },
  {
   "cell_type": "code",
   "execution_count": 10,
   "metadata": {},
   "outputs": [
    {
     "name": "stdout",
     "output_type": "stream",
     "text": [
      "10.0\n",
      "10.0 20.0\n"
     ]
    }
   ],
   "source": [
    "# Creating a tuple\n",
    "coordinates = (10.0, 20.0)\n",
    "# Accessing elements\n",
    "print(coordinates[0]) # Output: 10.0\n",
    "# Unpacking tuples\n",
    "x, y = coordinates\n",
    "print(x, y) # Output: 10.0 20.0"
   ]
  },
  {
   "cell_type": "markdown",
   "metadata": {},
   "source": [
    "Sets"
   ]
  },
  {
   "cell_type": "code",
   "execution_count": 11,
   "metadata": {},
   "outputs": [
    {
     "name": "stdout",
     "output_type": "stream",
     "text": [
      "{1, 2, 3, 4, 5, 6}\n",
      "{1, 2, 4, 5, 6}\n",
      "{1, 2, 3, 4, 5, 6, 7, 8}\n",
      "{1, 5}\n"
     ]
    }
   ],
   "source": [
    "# Creating a set\n",
    "numbers = {1, 2, 3, 4, 5}\n",
    "\n",
    "# Adding elements\n",
    "numbers.add(6)\n",
    "print(numbers)  # Output: {1, 2, 3, 4, 5, 6}\n",
    "\n",
    "# Removing elements\n",
    "numbers.discard(3)\n",
    "print(numbers)  # Output: {1, 2, 4, 5, 6}\n",
    "\n",
    "# Set operations\n",
    "odd_numbers = {1, 3, 5, 7}\n",
    "even_numbers = {2, 4, 6, 8}\n",
    "\n",
    "# Union\n",
    "print(odd_numbers | even_numbers)  # Output: {1, 2, 3, 4, 5, 6, 7, 8}\n",
    "\n",
    "# Intersection\n",
    "print(numbers & odd_numbers)  # Output: {1, 5}"
   ]
  },
  {
   "cell_type": "markdown",
   "metadata": {},
   "source": [
    "Dictionaries"
   ]
  },
  {
   "cell_type": "code",
   "execution_count": 12,
   "metadata": {},
   "outputs": [
    {
     "name": "stdout",
     "output_type": "stream",
     "text": [
      "Alice\n",
      "{'name': 'Alice', 'age': 21, 'major': 'Computer Science'}\n",
      "{'name': 'Alice', 'age': 21, 'major': 'Computer Science', 'graduation_year': 2024}\n",
      "{'name': 'Alice', 'age': 21, 'graduation_year': 2024}\n",
      "name: Alice\n",
      "age: 21\n",
      "graduation_year: 2024\n"
     ]
    }
   ],
   "source": [
    "# Creating a dictionary\n",
    "student = {\"name\": \"Alice\", \"age\": 20, \"major\": \"Computer Science\"}\n",
    "\n",
    "# Accessing elements by key\n",
    "print(student[\"name\"])  # Output: Alice\n",
    "\n",
    "# Modifying values\n",
    "student[\"age\"] = 21\n",
    "print(student)  # Output: {'name': 'Alice', 'age': 21, 'major': 'Computer Science'}\n",
    "\n",
    "# Adding new key-value pairs\n",
    "student[\"graduation_year\"] = 2024\n",
    "print(student)  # Output: {'name': 'Alice', 'age': 21, 'major': 'Computer Science', 'graduation_year': 2024}\n",
    "\n",
    "# Removing key-value pairs\n",
    "del student[\"major\"]\n",
    "print(student)  # Output: {'name': 'Alice', 'age': 21, 'graduation_year': 2024}\n",
    "\n",
    "# Looping through keys and values\n",
    "for key, value in student.items():\n",
    "    print(f\"{key}: {value}\")"
   ]
  },
  {
   "cell_type": "markdown",
   "metadata": {},
   "source": [
    "Assignment - Research What are other functions on containers, try out other functions, "
   ]
  }
 ],
 "metadata": {
  "kernelspec": {
   "display_name": "Python 3",
   "language": "python",
   "name": "python3"
  },
  "language_info": {
   "codemirror_mode": {
    "name": "ipython",
    "version": 3
   },
   "file_extension": ".py",
   "mimetype": "text/x-python",
   "name": "python",
   "nbconvert_exporter": "python",
   "pygments_lexer": "ipython3",
   "version": "3.12.1"
  }
 },
 "nbformat": 4,
 "nbformat_minor": 2
}
