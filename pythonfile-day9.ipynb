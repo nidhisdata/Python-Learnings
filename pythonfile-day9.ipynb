{
 "cells": [
  {
   "cell_type": "markdown",
   "metadata": {},
   "source": [
    "Error Handling:\n",
    "Try and Catch Method\n",
    "Types of errors:\n",
    "Syntax error - Error in code\n",
    "Type error - \n",
    "Value error - \n",
    "File not found error - \n",
    "Custom error flags using raise - "
   ]
  },
  {
   "cell_type": "code",
   "execution_count": 6,
   "metadata": {},
   "outputs": [
    {
     "name": "stdout",
     "output_type": "stream",
     "text": [
      "invalid literal for int() with base 10: 'hello'\n"
     ]
    }
   ],
   "source": [
    "try:\n",
    "    #print(/n'Hello World')\n",
    "    a = int('hello')\n",
    "except Exception as e:\n",
    "    print(e)"
   ]
  },
  {
   "cell_type": "code",
   "execution_count": null,
   "metadata": {},
   "outputs": [
    {
     "ename": "FileNotFoundError",
     "evalue": "x is less than 5",
     "output_type": "error",
     "traceback": [
      "\u001b[0;31m---------------------------------------------------------------------------\u001b[0m",
      "\u001b[0;31mFileNotFoundError\u001b[0m                         Traceback (most recent call last)",
      "Cell \u001b[0;32mIn[10], line 5\u001b[0m\n\u001b[1;32m      3\u001b[0m     \u001b[38;5;28mprint\u001b[39m(\u001b[38;5;124m'\u001b[39m\u001b[38;5;124mx is greater than 5\u001b[39m\u001b[38;5;124m'\u001b[39m)\n\u001b[1;32m      4\u001b[0m \u001b[38;5;28;01melse\u001b[39;00m:\n\u001b[0;32m----> 5\u001b[0m     \u001b[38;5;28;01mraise\u001b[39;00m \u001b[38;5;167;01mFileNotFoundError\u001b[39;00m (\u001b[38;5;124m'\u001b[39m\u001b[38;5;124mx is less than 5\u001b[39m\u001b[38;5;124m'\u001b[39m)\n",
      "\u001b[0;31mFileNotFoundError\u001b[0m: x is less than 5"
     ]
    }
   ],
   "source": [
    "x = 1\n",
    "if x>5:\n",
    "    print('x is greater than 5')\n",
    "else:\n",
    "    raise ValueError ('x is less than 5')"
   ]
  },
  {
   "cell_type": "code",
   "execution_count": 12,
   "metadata": {},
   "outputs": [
    {
     "ename": "CustomClass",
     "evalue": "x is less than 5",
     "output_type": "error",
     "traceback": [
      "\u001b[0;31m---------------------------------------------------------------------------\u001b[0m",
      "\u001b[0;31mCustomClass\u001b[0m                               Traceback (most recent call last)",
      "Cell \u001b[0;32mIn[12], line 7\u001b[0m\n\u001b[1;32m      5\u001b[0m     \u001b[38;5;28mprint\u001b[39m(\u001b[38;5;124m'\u001b[39m\u001b[38;5;124mx is greater than 5\u001b[39m\u001b[38;5;124m'\u001b[39m)\n\u001b[1;32m      6\u001b[0m \u001b[38;5;28;01melse\u001b[39;00m:\n\u001b[0;32m----> 7\u001b[0m     \u001b[38;5;28;01mraise\u001b[39;00m CustomClass (\u001b[38;5;124m'\u001b[39m\u001b[38;5;124mx is less than 5\u001b[39m\u001b[38;5;124m'\u001b[39m)\n",
      "\u001b[0;31mCustomClass\u001b[0m: x is less than 5"
     ]
    }
   ],
   "source": [
    "x = 1\n",
    "class CustomClass(Exception):\n",
    "    pass\n",
    "if x>5:\n",
    "    print('x is greater than 5')\n",
    "else:\n",
    "    raise CustomClass ('x is less than 5')"
   ]
  },
  {
   "cell_type": "code",
   "execution_count": 13,
   "metadata": {},
   "outputs": [
    {
     "name": "stdout",
     "output_type": "stream",
     "text": [
      "Handled error: invalid literal for int() with base 10: 'hello'\n"
     ]
    }
   ],
   "source": [
    "try:\n",
    "    a = int('hello')\n",
    "except (ValueError, TypeError) as e:\n",
    "    print(f\"Handled error: {e}\")"
   ]
  },
  {
   "cell_type": "code",
   "execution_count": 16,
   "metadata": {},
   "outputs": [
    {
     "name": "stderr",
     "output_type": "stream",
     "text": [
      "/tmp/ipykernel_5906/508327138.py:3: UserWarning: this is a warning\n",
      "  warnings.warn('this is a warning',UserWarning)\n"
     ]
    }
   ],
   "source": [
    "import warnings\n",
    "warnings.filterwarnings(\"once\")\n",
    "warnings.warn('this is a warning',UserWarning)\n",
    "warnings.warn('this is a warning',UserWarning)\n"
   ]
  },
  {
   "cell_type": "markdown",
   "metadata": {},
   "source": [
    "Research:\n"
   ]
  }
 ],
 "metadata": {
  "kernelspec": {
   "display_name": "Python 3",
   "language": "python",
   "name": "python3"
  },
  "language_info": {
   "codemirror_mode": {
    "name": "ipython",
    "version": 3
   },
   "file_extension": ".py",
   "mimetype": "text/x-python",
   "name": "python",
   "nbconvert_exporter": "python",
   "pygments_lexer": "ipython3",
   "version": "3.12.1"
  }
 },
 "nbformat": 4,
 "nbformat_minor": 2
}
